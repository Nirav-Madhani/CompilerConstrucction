{
  "nbformat": 4,
  "nbformat_minor": 0,
  "metadata": {
    "colab": {
      "name": "7 - CC Lab.ipynb",
      "provenance": [],
      "collapsed_sections": [],
      "toc_visible": true,
      "authorship_tag": "ABX9TyPcW7dKNuSwl4rxOhqGd4gf",
      "include_colab_link": true
    },
    "kernelspec": {
      "name": "python3",
      "display_name": "Python 3"
    },
    "language_info": {
      "name": "python"
    }
  },
  "cells": [
    {
      "cell_type": "markdown",
      "metadata": {
        "id": "view-in-github",
        "colab_type": "text"
      },
      "source": [
        "<a href=\"https://colab.research.google.com/github/Nirav-Madhani/CompilerConstrucction/blob/main/7_CC_Lab.ipynb\" target=\"_parent\"><img src=\"https://colab.research.google.com/assets/colab-badge.svg\" alt=\"Open In Colab\"/></a>"
      ]
    },
    {
      "cell_type": "code",
      "metadata": {
        "id": "3HndAiKTJOdd"
      },
      "source": [
        "inp = '''A -> B C\n",
        "B -> a | €\n",
        "C -> a b'''"
      ],
      "execution_count": null,
      "outputs": []
    },
    {
      "cell_type": "code",
      "metadata": {
        "id": "jPKEc9A3JgyL"
      },
      "source": [
        "def inputToDict(inp):\n",
        "  dt = dict()\n",
        "  for l in inp.splitlines():\n",
        "    key,value = l.split('->')\n",
        "    key = key.strip()\n",
        "    value = value.strip()\n",
        "    dt[key] = [v.strip() for v in value.split('|')]\n",
        "  return dt"
      ],
      "execution_count": null,
      "outputs": []
    },
    {
      "cell_type": "code",
      "metadata": {
        "id": "tZH9sRSo3pqZ"
      },
      "source": [
        "def dictToOutput(dic):\n",
        "  ans = []\n",
        "  for K,l in dic.items():\n",
        "    v = ' | '.join(l)\n",
        "    ans .append(' -> '.join([K,v]))\n",
        "  return '\\n'.join(ans)"
      ],
      "execution_count": null,
      "outputs": []
    },
    {
      "cell_type": "markdown",
      "metadata": {
        "id": "35_1YLj7kr2n"
      },
      "source": [
        "#3 First Follow"
      ]
    },
    {
      "cell_type": "code",
      "metadata": {
        "id": "JqDhRs0Did6f",
        "colab": {
          "base_uri": "https://localhost:8080/"
        },
        "outputId": "70af25c3-f010-443a-d06b-22f8773c4682"
      },
      "source": [
        "rules = inputToDict(inp)#{\"A\":[\"B C\"],\"B\":[\"a\",\"€\"],\"C\":[\"a b\"]}\n",
        "rules"
      ],
      "execution_count": null,
      "outputs": [
        {
          "output_type": "execute_result",
          "data": {
            "text/plain": [
              "{'A': ['B C'], 'B': ['a', '€'], 'C': ['a b']}"
            ]
          },
          "metadata": {},
          "execution_count": 61
        }
      ]
    },
    {
      "cell_type": "code",
      "metadata": {
        "colab": {
          "base_uri": "https://localhost:8080/"
        },
        "id": "PmUiK_hauwDU",
        "outputId": "2c63056a-d408-4452-9f5e-c964b4172a45"
      },
      "source": [
        "tokens = set()\n",
        "for v in rules.values():\n",
        "  for s in v:\n",
        "    tokens.update(s.split(' '))\n",
        "tokens"
      ],
      "execution_count": null,
      "outputs": [
        {
          "output_type": "execute_result",
          "data": {
            "text/plain": [
              "{'B', 'C', 'a', 'b', '€'}"
            ]
          },
          "metadata": {},
          "execution_count": 62
        }
      ]
    },
    {
      "cell_type": "code",
      "metadata": {
        "colab": {
          "base_uri": "https://localhost:8080/"
        },
        "id": "LoBMM_aojIOu",
        "outputId": "156aee8a-60af-4b75-cfea-73878dd12a90"
      },
      "source": [
        "first = {}\n",
        "def FindFirst(k):\n",
        "  l = rules[k]\n",
        "  for strs in l:\n",
        "    tokens = strs.split(' ')\n",
        "    for token in tokens:\n",
        "      if token in rules.keys():\n",
        "        temp = FindFirst(token)\n",
        "        if k not in first.keys():\n",
        "          first[k] = set()\n",
        "        first[k].update(temp)                \n",
        "      else:\n",
        "        if k not in first.keys():\n",
        "          first[k] = set()\n",
        "        first[k].add(token)\n",
        "        if '€' not in first[k]:\n",
        "          break\n",
        "  return first[k]\n",
        "for k in rules.keys():\n",
        "  FindFirst(k)\n",
        "for t in tokens:\n",
        "  if t not in first.keys():\n",
        "    first[t]=set({t})\n",
        "first"
      ],
      "execution_count": null,
      "outputs": [
        {
          "output_type": "execute_result",
          "data": {
            "text/plain": [
              "{'A': {'a', '€'},\n",
              " 'B': {'a', '€'},\n",
              " 'C': {'a'},\n",
              " 'a': {'a'},\n",
              " 'b': {'b'},\n",
              " '€': {'€'}}"
            ]
          },
          "metadata": {},
          "execution_count": 63
        }
      ]
    },
    {
      "cell_type": "code",
      "metadata": {
        "colab": {
          "base_uri": "https://localhost:8080/"
        },
        "id": "5wMOonIbryvX",
        "outputId": "aa95e9fd-8dde-4e7c-cd6d-7e5ca2a89b2c"
      },
      "source": [
        "follow = {'A':set({'$'})}\n",
        "def FindFollow(c):\n",
        "  if c not in follow.keys():\n",
        "    follow[c] = set()\n",
        "  if c == '€': return\n",
        "  for k,l in rules.items():\n",
        "    for strs in l:\n",
        "      tokens = strs.split(' ')\n",
        "      for i,token in enumerate(tokens):        \n",
        "        if token == c :\n",
        "          if i != len(tokens)-1:\n",
        "            follow[c].update(first[tokens[i+1]])\n",
        "          else:\n",
        "            follow[c].update(FindFollow(k))\n",
        "  return follow[c]    \n",
        "for t in rules.keys():  \n",
        "  FindFollow(t)            \n",
        "follow"
      ],
      "execution_count": null,
      "outputs": [
        {
          "output_type": "execute_result",
          "data": {
            "text/plain": [
              "{'A': {'$'}, 'B': {'a'}, 'C': {'$'}}"
            ]
          },
          "metadata": {},
          "execution_count": 64
        }
      ]
    },
    {
      "cell_type": "markdown",
      "metadata": {
        "id": "8DR9OrKxkzFe"
      },
      "source": [
        "# 4 Left Recusion"
      ]
    },
    {
      "cell_type": "code",
      "metadata": {
        "colab": {
          "base_uri": "https://localhost:8080/",
          "height": 40
        },
        "id": "egHBdGx6nyWV",
        "outputId": "fb808ade-891d-498c-d90a-8f79c2ff5202"
      },
      "source": [
        "inp = '''A -> A B d | A a | a \n",
        "B -> B e | b'''\n",
        "'''S -> A\n",
        "A -> A d | A e | a B | a c\n",
        "B -> b B c | f'''"
      ],
      "execution_count": null,
      "outputs": [
        {
          "output_type": "execute_result",
          "data": {
            "application/vnd.google.colaboratory.intrinsic+json": {
              "type": "string"
            },
            "text/plain": [
              "'S -> A\\nA -> A d | A e | a B | a c\\nB -> b B c | f'"
            ]
          },
          "metadata": {},
          "execution_count": 93
        }
      ]
    },
    {
      "cell_type": "code",
      "metadata": {
        "colab": {
          "base_uri": "https://localhost:8080/"
        },
        "id": "I4bhZSnRns4d",
        "outputId": "4649bf8a-25ea-4a79-c085-11610aee99c8"
      },
      "source": [
        "rules = inputToDict(inp)\n",
        "rules\n",
        "tokens = set()\n",
        "for v in rules.values():\n",
        "  for s in v:\n",
        "    tokens.update(s.split(' '))\n",
        "tokens"
      ],
      "execution_count": null,
      "outputs": [
        {
          "output_type": "execute_result",
          "data": {
            "text/plain": [
              "{'A', 'B', 'a', 'b', 'd', 'e'}"
            ]
          },
          "metadata": {},
          "execution_count": 94
        }
      ]
    },
    {
      "cell_type": "code",
      "metadata": {
        "id": "qYfoWrWplPKN"
      },
      "source": [
        "def removeUtil(rules):\n",
        "  found = False\n",
        "  rules_ = dict()\n",
        "  for K,l in rules.items():\n",
        "    alpha = []\n",
        "    beta = []\n",
        "    for v in l:\n",
        "      v= v.strip()\n",
        "      if v.split(' ')[0].strip() == K.strip():\n",
        "        alpha.append(' '.join(v.split(' ')[1:]))\n",
        "      else:\n",
        "        beta.append(v)\n",
        "    K_ = K+\"'\"\n",
        "    #print(alpha,beta)\n",
        "    if len(alpha) == 0:\n",
        "      rules_[K] = rules[K]\n",
        "      continue\n",
        "    found = True\n",
        "    if K not in rules_:\n",
        "      rules_[K] = []\n",
        "    for b in beta:\n",
        "      rules_[K].append(' '.join([b,K_]))\n",
        "    #print(rules_)\n",
        "    if K_ not in rules_:\n",
        "      rules_[K_] = []\n",
        "    for a in alpha:\n",
        "      rules_[K_].append(' '.join([a,K_]))\n",
        "    rules_[K_].append('€')\n",
        "    #print(rules_)\n",
        "  if not found:\n",
        "    return rules,False\n",
        "  #rules_.update(rules)\n",
        "  return rules_,found\n",
        "\n",
        "def remove(rules):\n",
        "  rules_,found = removeUtil(rules)\n",
        "  print(rules_)\n",
        "  if rules_ != rules:\n",
        "    return remove(rules_)\n",
        "  return rules_"
      ],
      "execution_count": null,
      "outputs": []
    },
    {
      "cell_type": "code",
      "metadata": {
        "colab": {
          "base_uri": "https://localhost:8080/"
        },
        "id": "ruTiPewtrVuV",
        "outputId": "5bbb9003-7a2e-4cc2-92e3-2df2807a5e13"
      },
      "source": [
        "removeUtil(rules)"
      ],
      "execution_count": null,
      "outputs": [
        {
          "output_type": "execute_result",
          "data": {
            "text/plain": [
              "({'A': [\"B A'\", \"c A'\"], \"A'\": [\"a A'\"], 'B': ['c d']}, True)"
            ]
          },
          "metadata": {},
          "execution_count": 89
        }
      ]
    },
    {
      "cell_type": "code",
      "metadata": {
        "colab": {
          "base_uri": "https://localhost:8080/"
        },
        "id": "WmqZpJ2GoKhG",
        "outputId": "d87cc30c-0996-445b-c3ab-f667fc15897c"
      },
      "source": [
        "print(dictToOutput(remove(rules)))"
      ],
      "execution_count": null,
      "outputs": [
        {
          "output_type": "stream",
          "name": "stdout",
          "text": [
            "{'A': [\"a A'\"], \"A'\": [\"B d A'\", \"a A'\", '€'], 'B': [\"b B'\"], \"B'\": [\"e B'\", '€']}\n",
            "{'A': [\"a A'\"], \"A'\": [\"B d A'\", \"a A'\", '€'], 'B': [\"b B'\"], \"B'\": [\"e B'\", '€']}\n",
            "A -> a A'\n",
            "A' -> B d A' | a A' | €\n",
            "B -> b B'\n",
            "B' -> e B' | €\n"
          ]
        }
      ]
    }
  ]
}